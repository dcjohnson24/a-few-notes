{
 "cells": [
  {
   "cell_type": "markdown",
   "metadata": {},
   "source": [
    "---\n",
    "title: REACH / IMPACT Initiatives Assessment\n",
    "date: 'Jan 18, 2024'\n",
    "categories: [code, analysis, interview]\n",
    "---"
   ]
  },
  {
   "cell_type": "markdown",
   "metadata": {},
   "source": [
    "# REACH / IMPACT Initiatives Assessment"
   ]
  },
  {
   "cell_type": "markdown",
   "metadata": {},
   "source": [
    "This was an assessment I did for REACH / IMPACT initiatives in December 2023. I was given a 2.5 hour time limit. The data for the exercise can be found [here](https://github.com/dcjohnson24/REACH_IMPACT_exercise)."
   ]
  },
  {
   "cell_type": "markdown",
   "metadata": {},
   "source": [
    "## Instructions"
   ]
  },
  {
   "cell_type": "markdown",
   "metadata": {},
   "source": [
    "This test includes three parts, 1. General Knowledge, 2. Data Processing and 3. Data Project. Use the spreadsheets Annex 1 to help you answer the questions below.\n",
    "\n",
    "The test has been designed to take 2:30 hours and examines several competencies regarding data analysis. Read all questions before you begin and note that the three parts can be completed in any order. When sending back your answers, please share all scripts, code, files etc. that you used to solve the exercises. Please also list all websites/external sources you used to answer the questions. Using generative AI to answer the questions is not permitted. Checks on the use of AI will be performed.\n",
    "\n",
    "All answers can be noted directly on this answer sheet unless otherwise specified. Please return this document with you answers, together with Annex 1 by email."
   ]
  },
  {
   "cell_type": "markdown",
   "metadata": {},
   "source": [
    "## Part 1 General Knowledge"
   ]
  },
  {
   "cell_type": "markdown",
   "metadata": {},
   "source": [
    "1. Explain p-values in layman terms. Feel free to use analogies or examples. Keep it simple, but make sure to stay technically accurate.\n",
    "    1. Why are they important?\n",
    "    \n",
    "    P-values given a measure of how precise an estimate is. It tells us how likely we are to see a value at least as large under the assumption that the null hypothesis is true. In the social sciences, a p-value less than or equal to 0.05 is considered to be a statistically significant result.\n",
    "    \n",
    "    2. How can they be interpreted?\n",
    "    \n",
    "    They can be interpreted as the probability of seeing a value at least as large for the coefficient under study given that the null hypothesis is true i.e. no effect. This gives some indication that the results are just noise.\n",
    "    \n",
    "    3. What are some common pitfalls/misunderstandings in their use and interpretation?\n",
    "    \n",
    "    Common misunderstandings of p-values are that they are the probability that the null-hypothesis is true or that the alternative hypothesis is true. A common misuse of p-values comes up when dealing with researcher degrees of freedom. Performing multiple comparisons of the data can increase the probability of encountering a false positive. There are also issues such as deciding to average certain groups, exclude other observations, and choosing regression predictors that affect the validity of a p-value (See [Gelman](https://stat.columbia.edu/~gelman/research/published/asa_pvalues.pdf))."
   ]
  },
  {
   "cell_type": "markdown",
   "metadata": {},
   "source": [
    "2. When would a Mosaic plot be an appropriate visualization?\n",
    "\n",
    "A Mosaic plot is good for showing percentages of data in groups. It is a graphical representation of a contingency table. This would be useful for showing the effect of an intervention for treatment and control groups, for example. See [here](https://www.jmp.com/en_us/statistics-knowledge-portal/exploratory-data-analysis/mosaic-plot.html#:~:text=Mosaic%20plots%20are%20used%20to,a%20visual%20comparison%20of%20groups) for more. "
   ]
  },
  {
   "cell_type": "markdown",
   "metadata": {},
   "source": [
    "3. What is personally identifiable information (PII)? Provide an example. When is it ok to collect PII?\n",
    "\n",
    "Personally identifiable information is sensitive information that can be used to track down or know the identify of a person. This could be someone’s name, phone number, email, or ID number. This is generally something that should be kept safe. Information should not leave the office nor should it be discussed with unauthorized parties. It could be appropriate when signing up for services where PII is mandated or for following up with a customer."
   ]
  },
  {
   "cell_type": "markdown",
   "metadata": {},
   "source": [
    "## Part 2 Data Processing"
   ]
  },
  {
   "cell_type": "markdown",
   "metadata": {},
   "source": [
    "In the spreadsheet Annex 1, you will find a raw dataset from a recent data collection exercise that was carried out by your team."
   ]
  },
  {
   "cell_type": "markdown",
   "metadata": {},
   "source": [
    "1. There are errors in in the dataset. Please identify at least four errors by highlighting them in yellow in the excel sheets. In the cleaning log tab, report the cell IDs, variable name and a small explanation on why you think this value can be an error in the comment column.\n",
    "\n",
    "See the spreadsheet available [here](https://github.com/dcjohnson24/REACH_IMPACT_exercise/blob/main/REACH_HR_TEST_DATA_analyst.docx-EmbeddedFile_answers.xlsx).\n",
    "\n",
    "2. Using the programming language python, create a new variable characterizing the household drinking water source into improved / unimproved source following the classification below. Paste the code / function you used below.\n",
    "\n",
    "Table 1: Unimproved / Improved drinking water source categorization\n",
    "\n",
    "| drinking_water_source             | Improved water source |\n",
    "|-----------------------------------|-----------------------|\n",
    "| Protected dug well                | Improved water source |\n",
    "| Piped water to yard or plot       | Improved water source |\n",
    "| Piped water into dwelling (house) | Improved water source |\n",
    "| Bottled water                     | Improved water source |\n",
    "| Tube well or borehole             | Improved water source |\n",
    "| Public tap or standpipe           | Improved water source |\n",
    "| Protected spring                  | Improved water source |\n",
    "| Other                             | NA                    |"
   ]
  },
  {
   "cell_type": "markdown",
   "metadata": {},
   "source": [
    "Start by importing the relevant libraries."
   ]
  },
  {
   "cell_type": "code",
   "execution_count": 9,
   "metadata": {},
   "outputs": [],
   "source": [
    "# Uncomment these lines and run them if you do not have the required packages installed. If you don't want \n",
    "# use a virtual environment, leave the first command commented and uncomment the last two.\n",
    "\n",
    "#!python -m venv .venv\n",
    "#!pip install --upgrade pip\n",
    "#!pip install -r requirements.txt"
   ]
  },
  {
   "cell_type": "code",
   "execution_count": 10,
   "metadata": {},
   "outputs": [],
   "source": [
    "import pandas as pd\n",
    "import numpy as np\n",
    "import matplotlib.pyplot as plt\n",
    "from statsmodels.graphics.mosaicplot import mosaic\n",
    "\n",
    "from pathlib import Path"
   ]
  },
  {
   "cell_type": "markdown",
   "metadata": {},
   "source": [
    "Read the data"
   ]
  },
  {
   "cell_type": "code",
   "execution_count": 11,
   "metadata": {},
   "outputs": [],
   "source": [
    "DATA_PATH = Path('data')\n",
    "\n",
    "df = pd.read_csv(DATA_PATH / 'REACH_HR_TEST_DATA_analyst.docx-EmbeddedFile.xlsm - Annex  1 - REACH Assessment Tes.csv')"
   ]
  },
  {
   "cell_type": "code",
   "execution_count": 12,
   "metadata": {},
   "outputs": [
    {
     "data": {
      "text/html": [
       "<div>\n",
       "<style scoped>\n",
       "    .dataframe tbody tr th:only-of-type {\n",
       "        vertical-align: middle;\n",
       "    }\n",
       "\n",
       "    .dataframe tbody tr th {\n",
       "        vertical-align: top;\n",
       "    }\n",
       "\n",
       "    .dataframe thead th {\n",
       "        text-align: right;\n",
       "    }\n",
       "</style>\n",
       "<table border=\"1\" class=\"dataframe\">\n",
       "  <thead>\n",
       "    <tr style=\"text-align: right;\">\n",
       "      <th></th>\n",
       "      <th>InterviewID</th>\n",
       "      <th>data_collection_round</th>\n",
       "      <th>Marital status - Head of Household</th>\n",
       "      <th>single_headed_household</th>\n",
       "      <th>Number household member boy under5 years old</th>\n",
       "      <th>Number household member _girl_under5 years old</th>\n",
       "      <th>Number household member boy_5_17 years old</th>\n",
       "      <th>household_girl_5_17</th>\n",
       "      <th>number adult household members years old</th>\n",
       "      <th>Total household number</th>\n",
       "      <th>...</th>\n",
       "      <th>Households use bottled water as drinking water source</th>\n",
       "      <th>Household treating water</th>\n",
       "      <th>Improvedsanitationfacility</th>\n",
       "      <th>Mentionedafterdefecating</th>\n",
       "      <th>Mentionedbeforeeating</th>\n",
       "      <th>Mentionedbeforeeatingafterdefecating</th>\n",
       "      <th>Mentionedbeforefeedingchild</th>\n",
       "      <th>handwashingfull</th>\n",
       "      <th>Household praticing open defecation</th>\n",
       "      <th>Frequency respondant report handwhashing a day</th>\n",
       "    </tr>\n",
       "  </thead>\n",
       "  <tbody>\n",
       "    <tr>\n",
       "      <th>0</th>\n",
       "      <td>baseline1</td>\n",
       "      <td>Baseline</td>\n",
       "      <td>Widowed</td>\n",
       "      <td>Yes</td>\n",
       "      <td>1</td>\n",
       "      <td>1</td>\n",
       "      <td>2</td>\n",
       "      <td>2</td>\n",
       "      <td>4</td>\n",
       "      <td>10</td>\n",
       "      <td>...</td>\n",
       "      <td>Other source</td>\n",
       "      <td>No</td>\n",
       "      <td>Improved toilet facility</td>\n",
       "      <td>Yes</td>\n",
       "      <td>Yes</td>\n",
       "      <td>Yes</td>\n",
       "      <td>No</td>\n",
       "      <td>Handwashing facility with Water &amp; Soap</td>\n",
       "      <td>No open defecation</td>\n",
       "      <td>3 - 4 times</td>\n",
       "    </tr>\n",
       "    <tr>\n",
       "      <th>1</th>\n",
       "      <td>baseline10</td>\n",
       "      <td>Baseline</td>\n",
       "      <td>Married</td>\n",
       "      <td>No</td>\n",
       "      <td>0</td>\n",
       "      <td>0</td>\n",
       "      <td>1</td>\n",
       "      <td>0</td>\n",
       "      <td>1</td>\n",
       "      <td>2</td>\n",
       "      <td>...</td>\n",
       "      <td>Other source</td>\n",
       "      <td>Yes</td>\n",
       "      <td>Improved toilet facility</td>\n",
       "      <td>Yes</td>\n",
       "      <td>Yes</td>\n",
       "      <td>Yes</td>\n",
       "      <td>No</td>\n",
       "      <td>Handwashing facility with Water &amp; Soap</td>\n",
       "      <td>No open defecation</td>\n",
       "      <td>7 times and more</td>\n",
       "    </tr>\n",
       "    <tr>\n",
       "      <th>2</th>\n",
       "      <td>baseline100</td>\n",
       "      <td>Baseline</td>\n",
       "      <td>Married</td>\n",
       "      <td>No</td>\n",
       "      <td>0</td>\n",
       "      <td>1</td>\n",
       "      <td>1</td>\n",
       "      <td>1</td>\n",
       "      <td>3</td>\n",
       "      <td>6</td>\n",
       "      <td>...</td>\n",
       "      <td>Other source</td>\n",
       "      <td>Yes</td>\n",
       "      <td>Improved toilet facility</td>\n",
       "      <td>No</td>\n",
       "      <td>Yes</td>\n",
       "      <td>No</td>\n",
       "      <td>No</td>\n",
       "      <td>Handwashing facility with Water &amp; Soap</td>\n",
       "      <td>No open defecation</td>\n",
       "      <td>5 - 6 times</td>\n",
       "    </tr>\n",
       "    <tr>\n",
       "      <th>3</th>\n",
       "      <td>baseline1000</td>\n",
       "      <td>Baseline</td>\n",
       "      <td>Married</td>\n",
       "      <td>No</td>\n",
       "      <td>0</td>\n",
       "      <td>0</td>\n",
       "      <td>0</td>\n",
       "      <td>0</td>\n",
       "      <td>2</td>\n",
       "      <td>2</td>\n",
       "      <td>...</td>\n",
       "      <td>Other source</td>\n",
       "      <td>Yes</td>\n",
       "      <td>Improved toilet facility</td>\n",
       "      <td>Yes</td>\n",
       "      <td>Yes</td>\n",
       "      <td>Yes</td>\n",
       "      <td>No</td>\n",
       "      <td>Handwashing facility with Water &amp; Soap</td>\n",
       "      <td>No open defecation</td>\n",
       "      <td>3 - 4 times</td>\n",
       "    </tr>\n",
       "    <tr>\n",
       "      <th>4</th>\n",
       "      <td>baseline1001</td>\n",
       "      <td>Baseline</td>\n",
       "      <td>Married</td>\n",
       "      <td>No</td>\n",
       "      <td>0</td>\n",
       "      <td>0</td>\n",
       "      <td>3</td>\n",
       "      <td>1</td>\n",
       "      <td>5</td>\n",
       "      <td>9</td>\n",
       "      <td>...</td>\n",
       "      <td>Bottled water</td>\n",
       "      <td>No</td>\n",
       "      <td>Improved toilet facility</td>\n",
       "      <td>Yes</td>\n",
       "      <td>Yes</td>\n",
       "      <td>Yes</td>\n",
       "      <td>No</td>\n",
       "      <td>Handwashing facility with Water &amp; Soap</td>\n",
       "      <td>No open defecation</td>\n",
       "      <td>5 - 6 times</td>\n",
       "    </tr>\n",
       "  </tbody>\n",
       "</table>\n",
       "<p>5 rows × 24 columns</p>\n",
       "</div>"
      ],
      "text/plain": [
       "    InterviewID data_collection_round Marital status - Head of Household  \\\n",
       "0     baseline1              Baseline                            Widowed   \n",
       "1    baseline10              Baseline                            Married   \n",
       "2   baseline100              Baseline                            Married   \n",
       "3  baseline1000              Baseline                            Married   \n",
       "4  baseline1001              Baseline                            Married   \n",
       "\n",
       "  single_headed_household  Number household member boy under5 years old  \\\n",
       "0                     Yes                                             1   \n",
       "1                      No                                             0   \n",
       "2                      No                                             0   \n",
       "3                      No                                             0   \n",
       "4                      No                                             0   \n",
       "\n",
       "   Number household member _girl_under5 years old  \\\n",
       "0                                               1   \n",
       "1                                               0   \n",
       "2                                               1   \n",
       "3                                               0   \n",
       "4                                               0   \n",
       "\n",
       "   Number household member boy_5_17 years old  household_girl_5_17  \\\n",
       "0                                           2                    2   \n",
       "1                                           1                    0   \n",
       "2                                           1                    1   \n",
       "3                                           0                    0   \n",
       "4                                           3                    1   \n",
       "\n",
       "   number adult household members years old  Total household number  ...  \\\n",
       "0                                         4                      10  ...   \n",
       "1                                         1                       2  ...   \n",
       "2                                         3                       6  ...   \n",
       "3                                         2                       2  ...   \n",
       "4                                         5                       9  ...   \n",
       "\n",
       "  Households use bottled water as drinking water source  \\\n",
       "0                                       Other source      \n",
       "1                                       Other source      \n",
       "2                                       Other source      \n",
       "3                                       Other source      \n",
       "4                                      Bottled water      \n",
       "\n",
       "  Household treating water Improvedsanitationfacility  \\\n",
       "0                       No   Improved toilet facility   \n",
       "1                      Yes   Improved toilet facility   \n",
       "2                      Yes   Improved toilet facility   \n",
       "3                      Yes   Improved toilet facility   \n",
       "4                       No   Improved toilet facility   \n",
       "\n",
       "  Mentionedafterdefecating Mentionedbeforeeating  \\\n",
       "0                      Yes                   Yes   \n",
       "1                      Yes                   Yes   \n",
       "2                       No                   Yes   \n",
       "3                      Yes                   Yes   \n",
       "4                      Yes                   Yes   \n",
       "\n",
       "  Mentionedbeforeeatingafterdefecating Mentionedbeforefeedingchild  \\\n",
       "0                                  Yes                          No   \n",
       "1                                  Yes                          No   \n",
       "2                                   No                          No   \n",
       "3                                  Yes                          No   \n",
       "4                                  Yes                          No   \n",
       "\n",
       "                          handwashingfull Household praticing open defecation  \\\n",
       "0  Handwashing facility with Water & Soap                  No open defecation   \n",
       "1  Handwashing facility with Water & Soap                  No open defecation   \n",
       "2  Handwashing facility with Water & Soap                  No open defecation   \n",
       "3  Handwashing facility with Water & Soap                  No open defecation   \n",
       "4  Handwashing facility with Water & Soap                  No open defecation   \n",
       "\n",
       "  Frequency respondant report handwhashing a day  \n",
       "0                                    3 - 4 times  \n",
       "1                               7 times and more  \n",
       "2                                    5 - 6 times  \n",
       "3                                    3 - 4 times  \n",
       "4                                    5 - 6 times  \n",
       "\n",
       "[5 rows x 24 columns]"
      ]
     },
     "execution_count": 12,
     "metadata": {},
     "output_type": "execute_result"
    }
   ],
   "source": [
    "df.head()"
   ]
  },
  {
   "cell_type": "markdown",
   "metadata": {},
   "source": [
    "Check for strange values"
   ]
  },
  {
   "cell_type": "code",
   "execution_count": 13,
   "metadata": {},
   "outputs": [
    {
     "name": "stdout",
     "output_type": "stream",
     "text": [
      "InterviewID\n",
      "uuid:21e50d02-d5a9-48ed-89dc-5312858a1239    2\n",
      "baseline1                                    1\n",
      "uuid:185510ee-8add-4bef-a40f-0149083941ba    1\n",
      "uuid:1993bcf6-c7bf-4d14-80ae-19c63c090dc5    1\n",
      "uuid:19863d7f-9da4-4ea7-ab40-5dfb98d262a2    1\n",
      "                                            ..\n",
      "baseline2443                                 1\n",
      "baseline2442                                 1\n",
      "baseline2441                                 1\n",
      "baseline2440                                 1\n",
      "uuid:ffd4a47d-c096-494d-b166-db98d4e87446    1\n",
      "Name: count, Length: 4818, dtype: int64\n",
      "data_collection_round\n",
      "Baseline    3025\n",
      "End-line    1794\n",
      "Name: count, dtype: int64\n",
      "Marital status - Head of Household\n",
      "Married                                    4395\n",
      "Widowed                                     296\n",
      "Divorced                                     60\n",
      "Single                                       56\n",
      "Seperated_above_18_acting_as_caregiver_      12\n",
      "Name: count, dtype: int64\n",
      "single_headed_household\n",
      "No     4391\n",
      "Yes     428\n",
      "Name: count, dtype: int64\n",
      "Number household member boy under5 years old\n",
      "0    3551\n",
      "1    1025\n",
      "2     209\n",
      "3      31\n",
      "4       2\n",
      "5       1\n",
      "Name: count, dtype: int64\n",
      "Number household member _girl_under5 years old\n",
      "0    3630\n",
      "1     961\n",
      "2     209\n",
      "3      16\n",
      "4       3\n",
      "Name: count, dtype: int64\n",
      "Number household member boy_5_17 years old\n",
      "0    2238\n",
      "1    1466\n",
      "2     806\n",
      "3     211\n",
      "4      78\n",
      "5      17\n",
      "6       2\n",
      "7       1\n",
      "Name: count, dtype: int64\n",
      "household_girl_5_17\n",
      "0    2453\n",
      "1    1480\n",
      "2     636\n",
      "3     201\n",
      "4      43\n",
      "5       3\n",
      "7       2\n",
      "6       1\n",
      "Name: count, dtype: int64\n",
      "number adult household members years old\n",
      " 2     2403\n",
      " 3     1015\n",
      " 4      605\n",
      " 5      292\n",
      " 1      290\n",
      " 6      121\n",
      " 7       54\n",
      " 8       24\n",
      " 9        8\n",
      " 10       5\n",
      " 11       1\n",
      "-5        1\n",
      "Name: count, dtype: int64\n",
      "Total household number\n",
      "4        956\n",
      "5        923\n",
      "3        697\n",
      "6        689\n",
      "7        465\n",
      "2        422\n",
      "8        256\n",
      "9        154\n",
      "1         90\n",
      "10        72\n",
      "11        34\n",
      "12        29\n",
      "14        13\n",
      "13        12\n",
      "15         3\n",
      "0          2\n",
      "17         1\n",
      "12156      1\n",
      "Name: count, dtype: int64\n",
      "diarrhea_under_5\n",
      "No     1804\n",
      "Yes     194\n",
      "Name: count, dtype: int64\n",
      "house_type\n",
      "Timber frame           2201\n",
      "Timber and concrete    1124\n",
      "Hut                     814\n",
      "Concrete                524\n",
      "Makeshift shelter       155\n",
      "Name: count, dtype: int64\n",
      "drinking_water_source\n",
      "Tube well or borehole                1340\n",
      "Bottled water                         885\n",
      "Piped water to yard or plot           619\n",
      "Public tap or standpipe               610\n",
      "Piped water into dwelling (house)     453\n",
      "Protected dug well                    367\n",
      "Protected spring                      219\n",
      "Unprotected dug well                  155\n",
      "Unprotected spring                     73\n",
      "Rainwater collection                   35\n",
      "Tanker-truck                           20\n",
      "Surface water                          18\n",
      "Other                                  10\n",
      "Cart with small tank or drum            6\n",
      "Name: count, dtype: int64\n",
      "drinking water source other\n",
      "Beer                  3\n",
      "well well             1\n",
      "filtered water        1\n",
      "don’t know            1\n",
      "piped water           1\n",
      "rain water            1\n",
      "from people           1\n",
      "Astqrad mn aljeran    1\n",
      "Name: count, dtype: int64\n",
      "Households use bottled water as drinking water source\n",
      "Other source     3925\n",
      "Bottled water     885\n",
      "Name: count, dtype: int64\n",
      "Household treating water\n",
      "No     3045\n",
      "Yes    1770\n",
      "Name: count, dtype: int64\n",
      "Improvedsanitationfacility\n",
      "Improved toilet facility      4153\n",
      "Unimproved toilet facility     611\n",
      "Name: count, dtype: int64\n",
      "Mentionedafterdefecating\n",
      "Yes    3314\n",
      "No     1500\n",
      "Name: count, dtype: int64\n",
      "Mentionedbeforeeating\n",
      "Yes    4605\n",
      "No      209\n",
      "Name: count, dtype: int64\n",
      "Mentionedbeforeeatingafterdefecating\n",
      "Yes    3244\n",
      "No     1570\n",
      "Name: count, dtype: int64\n",
      "Mentionedbeforefeedingchild\n",
      "No     4085\n",
      "Yes     729\n",
      "Name: count, dtype: int64\n",
      "handwashingfull\n",
      "Handwashing facility with Water & Soap          3906\n",
      "No Handwashing facility                          448\n",
      "Handwashing facility with Water without Soap     245\n",
      "Handwashing facility without Water and Soap      220\n",
      "Name: count, dtype: int64\n",
      "Household praticing open defecation\n",
      "No open defecation    3909\n",
      "Open defecation        880\n",
      "Name: count, dtype: int64\n",
      "Frequency respondant report handwhashing a day\n",
      "7 times and more    1803\n",
      "5 - 6 times         1642\n",
      "3 - 4 times         1298\n",
      "0 - 2 times           76\n",
      "Name: count, dtype: int64\n"
     ]
    }
   ],
   "source": [
    "for col in df.columns:\n",
    "    print(df[col].value_counts())"
   ]
  },
  {
   "cell_type": "markdown",
   "metadata": {},
   "source": [
    "Create a new variable using the mapping from Table 1."
   ]
  },
  {
   "cell_type": "code",
   "execution_count": 14,
   "metadata": {},
   "outputs": [],
   "source": [
    "improved_list = ['Protected dug well', 'Piped water to yard or plot', 'Piped water into dwelling (house)',\n",
    "                 'Bottled Water', 'Tube well or borehold', 'Public tap or standpipe', 'Protected spring']\n"
   ]
  },
  {
   "cell_type": "code",
   "execution_count": 15,
   "metadata": {},
   "outputs": [],
   "source": [
    "df['improved_water_source'] = ''\n",
    "df.loc[df['drinking_water_source'].isin(improved_list), 'improved_water_source'] = 'Improved water source'\n",
    "df.loc[~df['drinking_water_source'].isin(improved_list), 'improved_water_source'] = 'Unimproved water source'\n",
    "df.loc[df['drinking_water_source'] == 'Other', 'improved_water_source'] = np.nan\n"
   ]
  },
  {
   "cell_type": "markdown",
   "metadata": {},
   "source": [
    "3. This exercise requires the results of the previous exercise. Use any tools, statistics and visualizations that you see fit to analyze the questions below regarding how access to improved water sources changed between the baseline (first data collection round) and the endline (second data collection round, after a water improvement project has been implemented). Records for both rounds are in the same dataset; and come from randomly sampled households in the area of intervention. The column “data_collection_round” is “Baseline” for records of the first round, and “Endline” for records from the second round. Please share all code/files used for the analysis.\n",
    "    a. Did single headed households receive more/less improvements? (relevant data column: “single_headed_household”)"
   ]
  },
  {
   "cell_type": "code",
   "execution_count": 16,
   "metadata": {},
   "outputs": [
    {
     "data": {
      "image/png": "[encoded data removed]",
      "text/plain": [
       "<Figure size 640x480 with 3 Axes>"
      ]
     },
     "metadata": {},
     "output_type": "display_data"
    }
   ],
   "source": [
    "df_single = df.loc[df['single_headed_household'] == 'Yes']\n",
    "df_single.groupby('data_collection_round')['improved_water_source'].value_counts(dropna=False)\n",
    "df_single.groupby('data_collection_round')['improved_water_source'].value_counts(dropna=False, normalize=True)\n",
    "mosaic(df_single, ['data_collection_round', 'improved_water_source'], title='Single headed household')\n",
    "plt.tight_layout()\n",
    "plt.show()"
   ]
  },
  {
   "cell_type": "markdown",
   "metadata": {},
   "source": [
    "Single headed households received fewer improvements in endline than in baseline. There were 137 improved water sources in baseline (50.7% of all water sources) but only 68 improved water sources in endline (43% of all water sources)"
   ]
  },
  {
   "cell_type": "markdown",
   "metadata": {},
   "source": [
    "b. Did the improvements affect cases of diarrhea in children under 5? (relevant data column: “diarrhea_under_5”)"
   ]
  },
  {
   "cell_type": "code",
   "execution_count": 17,
   "metadata": {},
   "outputs": [
    {
     "data": {
      "image/png": "[encoded data removed]",
      "text/plain": [
       "<Figure size 640x480 with 3 Axes>"
      ]
     },
     "metadata": {},
     "output_type": "display_data"
    }
   ],
   "source": [
    "df_improved = df.loc[df['improved_water_source'] == 'Improved water source']\n",
    "df_improved.groupby('data_collection_round')['diarrhea_under_5'].value_counts(dropna=False)\n",
    "df_improved.groupby('data_collection_round')['diarrhea_under_5'].value_counts(dropna=False, normalize=True)\n",
    "mosaic(df_improved, ['data_collection_round', 'diarrhea_under_5'], title='Diarrhea under 5 among households with improved water sources')\n",
    "plt.tight_layout()\n",
    "plt.show()"
   ]
  },
  {
   "cell_type": "markdown",
   "metadata": {},
   "source": [
    "Yes, diarrhea in children under 5 went down from 72 cases in baseline (4.9%) to 31 cases in endline (3.8%)."
   ]
  },
  {
   "cell_type": "markdown",
   "metadata": {},
   "source": [
    "## Part 3: Data Project"
   ]
  },
  {
   "cell_type": "markdown",
   "metadata": {},
   "source": [
    "*Instructions*\n",
    " \n",
    "Describe in detail the various stages involved in successfully completing a complex data project.\n",
    "You are supporting a large household survey data collection in KoboToolbox. As part of this project, you want to develop an algorithm that would identify suspicious behavior of enumerator during data collection. \n",
    "\n",
    "You have it at your disposal. \n",
    "- the raw data from ODK / KoboToolbox, \n",
    "- the clean data\n",
    "- the cleaning log in which cleaning operations are logged (see example in excel Annex 1), \n",
    "- the audit files from ODK / KoboToolbox that logs enumerator behavior during interview administering the interview. Form Audit Log - ODK Docs [getodk.org](https://getodk.org)"
   ]
  },
  {
   "cell_type": "markdown",
   "metadata": {},
   "source": [
    "We want to identify if there are suspicious surveys (fake interviews for example) in the data collection that is coming:\n",
    "- What are the different stages involved in carrying out such a project?"
   ]
  },
  {
   "cell_type": "markdown",
   "metadata": {},
   "source": [
    "1. Download `audit.csv` from ODK\n",
    "2. We could first look at the distribution of the length of interviews. Interviews that are suspiciously short or in the bottom 5% of times taken would be marked for further investigation. \n",
    "3. We would also look at the location data to compare it with where the respondent is supposed to be. Assuming that the interview was conducted at the respondent’s home, data that was filled in outside of this would be suspicious. \n",
    "4. We would also look at the distribution of the number of changes to response. Enumerators with an unusually high number could be investigated further, perhaps by performing a text analysis of their reasons for changes.\n",
    "5. Another way of checking for fake surveys is by conducting back checks. A random 10% of households could be selected to be re-interviewed by a different enumerator. If the survey responses differ markedly from the original survey, this could be evidence of a fraudulent survey."
   ]
  },
  {
   "cell_type": "markdown",
   "metadata": {},
   "source": [
    "For each stage, detail the tasks to be carried out, the methods to be followed, possible avenues and critical points.\n",
    "- Thoroughly justify your choices."
   ]
  },
  {
   "cell_type": "markdown",
   "metadata": {},
   "source": [
    "1. After downloading `audit.csv`, a duration variable could be created that is difference between the end and start times of the survey. The elapsed time is accurate even in the start and end timestamps aren’t as mentioned in Form Audit Log - ODK Docs [getodk.org](https://getodk.org). A histogram of the duration could be be plotted. Surveys with times in the bottom 10%, for example, could be checked to see whether the answers are sensible, how many skipped questions there are, etc. This could indicate whether an enumerator is simply rushing through a survey without regard to skip patterns or filling in responses at random.\n",
    "2. For the location data, the GPS coordinates of where the survey was meant to be conducted can be checked against the location where it was actually done. The downside of this is that if the device shuts off or location data is not turned on, this would make it hard to know whether the survey was done at the appropriate location\n",
    "3. For the number of changed responses, we could compute the number of changed responses per survey and plot a histogram of the result. Those in the highest 10%, for example, could be set aside for further investigation. We could look at the reasons for the changes and compare those with surveys that are closer to the median. \n",
    "4. Finally, for the back check portion, we can randomly sample a subset of interview IDs to be re-interviewed. A trusted enumerator, preferably separate from the rest of the team, will then be sent to re-interview those households using the entire questionnaire or only the questions of concern. The answers will be compared to those from the first survey. One way to compare is to use the [bcstats](https://github.com/PovertyAction/ipabcstats) tool developed by Innovations for Poverty Action. Check [here](https://dimewiki.worldbank.org/Back_Checks) for more information about back check procedures. \n"
   ]
  }
 ],
 "metadata": {
  "kernelspec": {
   "display_name": ".venv",
   "language": "python",
   "name": "python3"
  },
  "language_info": {
   "codemirror_mode": {
    "name": "ipython",
    "version": 3
   },
   "file_extension": ".py",
   "mimetype": "text/x-python",
   "name": "python",
   "nbconvert_exporter": "python",
   "pygments_lexer": "ipython3",
   "version": "3.10.12"
  }
 },
 "nbformat": 4,
 "nbformat_minor": 2
}
